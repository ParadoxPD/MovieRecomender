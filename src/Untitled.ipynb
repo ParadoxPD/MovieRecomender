{
 "cells": [
  {
   "cell_type": "code",
   "execution_count": 1,
   "id": "99f6a3ab-c97c-44d9-af8c-af092dea5593",
   "metadata": {},
   "outputs": [],
   "source": [
    "import pandas as pd\n",
    "import os\n",
    "from scipy.sparse import csr_matrix\n",
    "from sklearn.neighbors import NearestNeighbors\n",
    "pd.set_option('display.max_columns', 20)\n",
    "\n",
    "#importing the dataset\n",
    "dataset_path = os.path.abspath('../Dataset/data/')\n",
    "ratings = pd.read_csv(dataset_path + '/ratings.csv')\n",
    "movies = pd.read_csv(dataset_path + '/movies.csv')\n",
    "\n",
    "\n"
   ]
  },
  {
   "cell_type": "code",
   "execution_count": 2,
   "id": "561ab264-977f-458d-8a94-3b0e58de0910",
   "metadata": {},
   "outputs": [
    {
     "name": "stdout",
     "output_type": "stream",
     "text": [
      "25000095\n",
      "101074\n"
     ]
    },
    {
     "data": {
      "text/plain": [
       "NearestNeighbors(algorithm='brute', metric='cosine', n_jobs=-1, n_neighbors=20)"
      ]
     },
     "execution_count": 2,
     "metadata": {},
     "output_type": "execute_result"
    }
   ],
   "source": [
    "\n",
    "print(len(ratings))\n",
    "# print(len(movies))\n",
    "\n",
    "# Data cleaning \n",
    "movies.drop(movies[movies['genres'] == \"(no genres listed)\"].index, inplace = True)\n",
    "ratings.drop(['timestamp'],axis = 1)\n",
    "no_movies_voted = ratings.groupby('userId')['rating'].agg('count')\n",
    "ratings_ = ratings.loc[no_movies_voted[no_movies_voted > 50].index,:]\n",
    "\n",
    "print(len(ratings_))\n",
    "# print(len(movies_))\n",
    "\n",
    "# creating the final dataset containing the movies ,user and their ratings\n",
    "final_dataset = ratings_.pivot(index='movieId',columns='userId',values='rating')\n",
    "# final_dataset.head()\n",
    "final_dataset.fillna(0,inplace=True)\n",
    "\n",
    "\n",
    "from sklearn.preprocessing import StandardScaler\n",
    "scaler = StandardScaler(with_mean = False)\n",
    "final_dataset_scaled = scaler.fit_transform(final_dataset)\n",
    "\n",
    "# print(final_dataset_scaled)\n",
    "# Removing Sparsity\n",
    "csr_data = csr_matrix(final_dataset_scaled)\n",
    "final_dataset.reset_index(inplace=True)\n",
    "\n",
    "\n",
    "# Using K Nearest Neighbours to find the recomendations using the similarity betwen the movies\n",
    "knn = NearestNeighbors(metric='cosine', algorithm='brute', n_neighbors=20, n_jobs=-1)\n",
    "knn.fit(csr_data)\n",
    "\n",
    "\n"
   ]
  },
  {
   "cell_type": "code",
   "execution_count": 6,
   "id": "22a4205c-2bc7-444a-8a38-1822c0f62acf",
   "metadata": {},
   "outputs": [
    {
     "name": "stdout",
     "output_type": "stream",
     "text": [
      "['Dark Knight, The (2008)' 'The Newcomers (2000)' 'Iron Man 2 (2010)'\n",
      " 'Pagan Love Song (1950)' 'Avatar (2009)' 'Day of the Falcon (2011)'\n",
      " 'Batman Begins (2005)' 'Kung Fu Panda (2008)' 'Right Cross (1950)'\n",
      " 'Dangerous Method, A (2011)']\n",
      "No Recomendations Found\n"
     ]
    }
   ],
   "source": [
    "\n",
    "def get_movie_recommendation(movie_name):\n",
    "    try:\n",
    "        n_movies_to_reccomend = 10\n",
    "        movie_list = movies[movies['title'].str.contains(movie_name)]  \n",
    "        if len(movie_list):        \n",
    "            movie_idx = movie_list.iloc[0]['movieId']\n",
    "            movie_idx = final_dataset[final_dataset['movieId'] == movie_idx].index[0]\n",
    "            distances , indices = knn.kneighbors(csr_data[movie_idx],n_neighbors=n_movies_to_reccomend+1)    \n",
    "            rec_movie_indices = sorted(list(zip(indices.squeeze().tolist(),distances.squeeze().tolist())),key=lambda x: x[1])[:0:-1]\n",
    "            recommend_frame = []\n",
    "            for val in rec_movie_indices:\n",
    "                movie_idx = final_dataset.iloc[val[0]]['movieId']\n",
    "                idx = movies[movies['movieId'] == movie_idx].index\n",
    "                recommend_frame.append({'Title':movies.iloc[idx]['title'].values[0],'Distance':val[1]})\n",
    "            df = pd.DataFrame(recommend_frame,index=range(n_movies_to_reccomend,0,-1))[::-1][\"Title\"]\n",
    "            return df.values\n",
    "        else:\n",
    "            return \"No movies found. Please check your input\"\n",
    "    except IndexError:\n",
    "        return \"No Recomendations Found\"\n",
    "    \n",
    "    \n",
    "    \n",
    "print(get_movie_recommendation('Iron Man'))\n",
    "print(get_movie_recommendation('Silent Voice'))\n"
   ]
  },
  {
   "cell_type": "code",
   "execution_count": null,
   "id": "0c49e847-95b3-4e63-b2f2-e78aa182c62c",
   "metadata": {},
   "outputs": [],
   "source": [
    "final_dataset[final_dataset['movieId'] == 166291].index"
   ]
  }
 ],
 "metadata": {
  "kernelspec": {
   "display_name": "Python 3 (ipykernel)",
   "language": "python",
   "name": "python3"
  },
  "language_info": {
   "codemirror_mode": {
    "name": "ipython",
    "version": 3
   },
   "file_extension": ".py",
   "mimetype": "text/x-python",
   "name": "python",
   "nbconvert_exporter": "python",
   "pygments_lexer": "ipython3",
   "version": "3.9.1"
  }
 },
 "nbformat": 4,
 "nbformat_minor": 5
}
